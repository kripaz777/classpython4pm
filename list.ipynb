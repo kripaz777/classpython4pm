{
 "cells": [
  {
   "cell_type": "code",
   "execution_count": 1,
   "id": "172a29c5",
   "metadata": {},
   "outputs": [],
   "source": [
    "# Python collection\n",
    "# List\n",
    "# -Indexing\n",
    "# -Ordered\n",
    "# -Multiple and duplicate data\n",
    "# -Mutable"
   ]
  },
  {
   "cell_type": "code",
   "execution_count": 2,
   "id": "a85a80c9",
   "metadata": {},
   "outputs": [
    {
     "name": "stdout",
     "output_type": "stream",
     "text": [
      "<class 'list'>\n"
     ]
    }
   ],
   "source": [
    "a = list()\n",
    "#a = []\n",
    "b = [34,54,34,76,89,67,90,]\n",
    "print(type(b))"
   ]
  },
  {
   "cell_type": "code",
   "execution_count": 6,
   "id": "7b57020e",
   "metadata": {},
   "outputs": [
    {
     "name": "stdout",
     "output_type": "stream",
     "text": [
      "Apple\n",
      "['Apple', 'Ball', 'Cat', 'Dog']\n",
      "['Apple', 'Cat', 'Fish']\n"
     ]
    }
   ],
   "source": [
    "a = [\"Apple\",\"Ball\",\"Cat\",\"Dog\",\"Fish\"]\n",
    "print(a[0])\n",
    "print(a[0:4])\n",
    "print(a[0:5:2])"
   ]
  },
  {
   "cell_type": "code",
   "execution_count": 7,
   "id": "e8912988",
   "metadata": {},
   "outputs": [
    {
     "name": "stdout",
     "output_type": "stream",
     "text": [
      "[34, 54, 34, 76, 89, 67, 90]\n"
     ]
    }
   ],
   "source": [
    "b = [34,54,34,76,89,67,90,]\n",
    "print(b)"
   ]
  },
  {
   "cell_type": "code",
   "execution_count": 8,
   "id": "ff03cc3e",
   "metadata": {},
   "outputs": [
    {
     "data": {
      "text/plain": [
       "['Apple', 'Ball', 'Cat', 'Dog', 'Fish', 'Apple']"
      ]
     },
     "execution_count": 8,
     "metadata": {},
     "output_type": "execute_result"
    }
   ],
   "source": [
    "a = [\"Apple\",\"Ball\",\"Cat\",\"Dog\",\"Fish\",\"Apple\"]\n",
    "a"
   ]
  },
  {
   "cell_type": "code",
   "execution_count": 9,
   "id": "c271c498",
   "metadata": {},
   "outputs": [
    {
     "name": "stdout",
     "output_type": "stream",
     "text": [
      "['Apple', 'Ball', 'Cat', 'Dog', 'Fish', 1, 2, 3, 4, 5, 6, 7, 8, 9]\n"
     ]
    }
   ],
   "source": [
    "a = [\"Apple\",\"Ball\",\"Cat\",\"Dog\",\"Fish\"]\n",
    "b = [1,2,3,4,5,6,7,8,9,]\n",
    "c = a+b\n",
    "print(c)"
   ]
  },
  {
   "cell_type": "code",
   "execution_count": 10,
   "id": "d645193c",
   "metadata": {},
   "outputs": [
    {
     "name": "stdout",
     "output_type": "stream",
     "text": [
      "['Apple', 'Ball', 'Cat', 'Dog', 'Fish', 'Apple', 'Ball', 'Cat', 'Dog', 'Fish']\n"
     ]
    }
   ],
   "source": [
    "a = [\"Apple\",\"Ball\",\"Cat\",\"Dog\",\"Fish\"]\n",
    "print(a*2)"
   ]
  },
  {
   "cell_type": "code",
   "execution_count": 11,
   "id": "f27e0027",
   "metadata": {},
   "outputs": [
    {
     "name": "stdout",
     "output_type": "stream",
     "text": [
      "Apple\n",
      "Ball\n",
      "Cat\n",
      "Dog\n",
      "Fish\n"
     ]
    }
   ],
   "source": [
    "a = [\"Apple\",\"Ball\",\"Cat\",\"Dog\",\"Fish\"]\n",
    "for i in a:\n",
    "    print(i)"
   ]
  },
  {
   "cell_type": "code",
   "execution_count": 12,
   "id": "0be11da4",
   "metadata": {},
   "outputs": [],
   "source": [
    "# append() insert() extend()\n"
   ]
  },
  {
   "cell_type": "code",
   "execution_count": 13,
   "id": "0046d9a9",
   "metadata": {},
   "outputs": [
    {
     "data": {
      "text/plain": [
       "['Apple', 'Ball']"
      ]
     },
     "execution_count": 13,
     "metadata": {},
     "output_type": "execute_result"
    }
   ],
   "source": [
    "a = []\n",
    "a.append(\"Apple\")\n",
    "a.append(\"Ball\")\n",
    "a"
   ]
  },
  {
   "cell_type": "code",
   "execution_count": 14,
   "id": "80d4134f",
   "metadata": {},
   "outputs": [
    {
     "name": "stdout",
     "output_type": "stream",
     "text": [
      "Enter n = 5\n",
      "Enter x = 23\n",
      "Enter x = 456\n",
      "Enter x = 324\n",
      "Enter x = 768\n",
      "Enter x = 34\n",
      "[23, 456, 324, 768, 34]\n"
     ]
    }
   ],
   "source": [
    "l = []\n",
    "n = int(input(\"Enter n = \"))\n",
    "for i in range(n):\n",
    "    x = int(input(\"Enter x = \"))\n",
    "    l.append(x)\n",
    "    \n",
    "print(l)"
   ]
  },
  {
   "cell_type": "code",
   "execution_count": 17,
   "id": "90deba2d",
   "metadata": {},
   "outputs": [
    {
     "name": "stdout",
     "output_type": "stream",
     "text": [
      "Min value =  23\n",
      "Max value =  768\n",
      "Sum value =  1605\n",
      "Avg value =  321.0\n",
      "[23, 34, 324, 456, 768]\n",
      "[768, 456, 324, 34, 23]\n"
     ]
    }
   ],
   "source": [
    "print(\"Min value = \",min(l))\n",
    "print(\"Max value = \",max(l))\n",
    "print(\"Sum value = \",sum(l))\n",
    "print(\"Avg value = \",sum(l)/n)\n",
    "l.sort()\n",
    "print(l)\n",
    "l.reverse()\n",
    "print(l)"
   ]
  },
  {
   "cell_type": "code",
   "execution_count": 18,
   "id": "98cc3297",
   "metadata": {},
   "outputs": [
    {
     "name": "stdout",
     "output_type": "stream",
     "text": [
      "Enter n = 5\n",
      "Enter x = Ball\n",
      "Enter x = Apple\n",
      "Enter x = Zebra\n",
      "Enter x = coke\n",
      "Enter x = fish\n",
      "['Ball', 'Apple', 'Zebra', 'coke', 'fish']\n"
     ]
    }
   ],
   "source": [
    "l = []\n",
    "n = int(input(\"Enter n = \"))\n",
    "for i in range(n):\n",
    "    x = input(\"Enter x = \")\n",
    "    l.append(x)\n",
    "    \n",
    "print(l)\n"
   ]
  },
  {
   "cell_type": "code",
   "execution_count": 19,
   "id": "e79e37d8",
   "metadata": {},
   "outputs": [
    {
     "name": "stdout",
     "output_type": "stream",
     "text": [
      "['Apple', 'Ball', 'Zebra', 'coke', 'fish']\n"
     ]
    }
   ],
   "source": [
    "l.sort()\n",
    "print(l)"
   ]
  },
  {
   "cell_type": "code",
   "execution_count": 20,
   "id": "d70a8016",
   "metadata": {},
   "outputs": [
    {
     "name": "stdout",
     "output_type": "stream",
     "text": [
      "['Apple', 'apple', 'Ball', 'Zebra', 'coke', 'fish']\n"
     ]
    }
   ],
   "source": [
    "#insert\n",
    "a = ['Apple', 'Ball', 'Zebra', 'coke', 'fish']\n",
    "a.insert(1,\"apple\")\n",
    "print(a)"
   ]
  },
  {
   "cell_type": "code",
   "execution_count": 21,
   "id": "49b21fae",
   "metadata": {},
   "outputs": [
    {
     "name": "stdout",
     "output_type": "stream",
     "text": [
      "['Apple', 'Ball', 'Zebra', 'coke', 'fish', 1, 2, 3, 4, 5]\n"
     ]
    }
   ],
   "source": [
    "#Extend\n",
    "a = ['Apple', 'Ball', 'Zebra', 'coke', 'fish']\n",
    "b = [1,2,3,4,5]\n",
    "a.extend(b)\n",
    "print(a)"
   ]
  },
  {
   "cell_type": "code",
   "execution_count": 23,
   "id": "1f7d5fd4",
   "metadata": {},
   "outputs": [
    {
     "data": {
      "text/plain": [
       "['apple', 'Ball', 'Zebra', 'coke', 'fish']"
      ]
     },
     "execution_count": 23,
     "metadata": {},
     "output_type": "execute_result"
    }
   ],
   "source": [
    "# update\n",
    "a = ['Apple', 'Ball', 'Zebra', 'coke', 'fish']\n",
    "a[0] = 'apple'\n",
    "a"
   ]
  },
  {
   "cell_type": "code",
   "execution_count": 31,
   "id": "2ae2ae01",
   "metadata": {},
   "outputs": [
    {
     "data": {
      "text/plain": [
       "['Apple', 'Ball', 'Zebra', 'Cat', 'Dog', 'fish']"
      ]
     },
     "execution_count": 31,
     "metadata": {},
     "output_type": "execute_result"
    }
   ],
   "source": [
    "# update\n",
    "a = ['Apple', 'Ball', 'Zebra', 'coke', 'fish']\n",
    "a[3:4] = [\"Cat\",\"Dog\"]\n",
    "a"
   ]
  },
  {
   "cell_type": "code",
   "execution_count": 26,
   "id": "07923ad5",
   "metadata": {},
   "outputs": [
    {
     "data": {
      "text/plain": [
       "'Cat'"
      ]
     },
     "execution_count": 26,
     "metadata": {},
     "output_type": "execute_result"
    }
   ],
   "source": [
    "a[2]"
   ]
  },
  {
   "cell_type": "code",
   "execution_count": null,
   "id": "a06e4a47",
   "metadata": {},
   "outputs": [],
   "source": [
    "# delete\n",
    "# del remove() pop()"
   ]
  },
  {
   "cell_type": "code",
   "execution_count": 33,
   "id": "5ad33892",
   "metadata": {},
   "outputs": [
    {
     "name": "stdout",
     "output_type": "stream",
     "text": [
      "['Ball', 'Zebra', 'coke', 'fish']\n"
     ]
    }
   ],
   "source": [
    "a = ['Apple', 'Ball', 'Zebra', 'coke', 'fish']\n",
    "del a[0]\n",
    "print(a)"
   ]
  },
  {
   "cell_type": "code",
   "execution_count": 34,
   "id": "e22d2446",
   "metadata": {},
   "outputs": [
    {
     "name": "stdout",
     "output_type": "stream",
     "text": [
      "['Zebra', 'coke', 'fish']\n"
     ]
    }
   ],
   "source": [
    "a = ['Apple', 'Ball', 'Zebra', 'coke', 'fish']\n",
    "del a[0:2]\n",
    "print(a)"
   ]
  },
  {
   "cell_type": "code",
   "execution_count": 35,
   "id": "76efe0eb",
   "metadata": {},
   "outputs": [
    {
     "name": "stdout",
     "output_type": "stream",
     "text": [
      "['Ball', 'Zebra', 'coke', 'fish']\n"
     ]
    }
   ],
   "source": [
    "a = ['Apple', 'Ball', 'Zebra', 'coke', 'fish']\n",
    "a.remove(\"Apple\")\n",
    "print(a)"
   ]
  },
  {
   "cell_type": "code",
   "execution_count": 37,
   "id": "3d7059b2",
   "metadata": {},
   "outputs": [
    {
     "name": "stdout",
     "output_type": "stream",
     "text": [
      "['Ball', 'Zebra', 'coke', 'fish']\n"
     ]
    }
   ],
   "source": [
    "a = ['Apple', 'Ball', 'Zebra',\"Apple\", 'coke', 'fish',\"Apple\"]\n",
    "c = a.count(\"Apple\")\n",
    "for i in range(c):\n",
    "    a.remove(\"Apple\")\n",
    "    \n",
    "print(a)"
   ]
  },
  {
   "cell_type": "code",
   "execution_count": 43,
   "id": "d37d54d5",
   "metadata": {},
   "outputs": [
    {
     "name": "stdout",
     "output_type": "stream",
     "text": [
      "0\n",
      "3\n",
      "6\n"
     ]
    }
   ],
   "source": [
    "a = ['Apple', 'Ball', 'Zebra',\"Apple\", 'coke', 'fish',\"Apple\"]\n",
    "l = len(a)\n",
    "for i in range(l):\n",
    "    if a[i] == \"Apple\":\n",
    "        print(i)"
   ]
  },
  {
   "cell_type": "code",
   "execution_count": 44,
   "id": "c0ef5f32",
   "metadata": {},
   "outputs": [
    {
     "data": {
      "text/plain": [
       "['Apple', 'Ball', 'Zebra', 'Apple', 'coke', 'fish']"
      ]
     },
     "execution_count": 44,
     "metadata": {},
     "output_type": "execute_result"
    }
   ],
   "source": [
    "a = ['Apple', 'Ball', 'Zebra',\"Apple\", 'coke', 'fish',\"Apple\"]\n",
    "a.pop()\n",
    "a"
   ]
  },
  {
   "cell_type": "code",
   "execution_count": 45,
   "id": "0c091a0f",
   "metadata": {},
   "outputs": [
    {
     "data": {
      "text/plain": [
       "['Apple', 'Ball', 'Zebra', 'Apple', 'coke', 'Apple']"
      ]
     },
     "execution_count": 45,
     "metadata": {},
     "output_type": "execute_result"
    }
   ],
   "source": [
    "a = ['Apple', 'Ball', 'Zebra',\"Apple\", 'coke', 'fish',\"Apple\"]\n",
    "a.pop(5)\n",
    "a"
   ]
  },
  {
   "cell_type": "code",
   "execution_count": 1,
   "id": "7283811a",
   "metadata": {},
   "outputs": [],
   "source": [
    "# nested list"
   ]
  },
  {
   "cell_type": "code",
   "execution_count": 2,
   "id": "47d3e026",
   "metadata": {},
   "outputs": [
    {
     "name": "stdout",
     "output_type": "stream",
     "text": [
      "[[1, 2, 3], [4, 5, 6], [7, 8, 9]]\n",
      "<class 'list'>\n"
     ]
    }
   ],
   "source": [
    "a = [[1,2,3],\n",
    "    [4,5,6],\n",
    "    [7,8,9]]\n",
    "print(a)\n",
    "print(type(a))"
   ]
  },
  {
   "cell_type": "code",
   "execution_count": 4,
   "id": "21aa41c9",
   "metadata": {},
   "outputs": [
    {
     "name": "stdout",
     "output_type": "stream",
     "text": [
      "<class 'list'>\n",
      "[['name', 'age', 'add'], ['Ram', 45, 'Kathmandu'], ['Shyam', 56, 'Bhaktapur'], ['Hari', 89, 'Lalitpur']]\n"
     ]
    }
   ],
   "source": [
    "a = [['name','age','add'],\n",
    "    ['Ram',45,'Kathmandu'],\n",
    "    ['Shyam',56,'Bhaktapur'],\n",
    "    ['Hari',89,'Lalitpur']]\n",
    "print(type(a))\n",
    "print(a)"
   ]
  },
  {
   "cell_type": "code",
   "execution_count": 12,
   "id": "1f2ea403",
   "metadata": {},
   "outputs": [
    {
     "name": "stdout",
     "output_type": "stream",
     "text": [
      "4\n",
      "['name', 'age', 'add']\n",
      "Ram\n"
     ]
    }
   ],
   "source": [
    "print(len(a))\n",
    "print(a[0])\n",
    "print(a[1][0])"
   ]
  },
  {
   "cell_type": "code",
   "execution_count": 13,
   "id": "eab5f435",
   "metadata": {},
   "outputs": [
    {
     "name": "stdout",
     "output_type": "stream",
     "text": [
      "Enter n = 2\n",
      "Enter name = Ram\n",
      "Enter age = 89\n",
      "Enter add = Kathmandu\n",
      "Enter name = Shyam\n",
      "Enter age = 89\n",
      "Enter add = Bhaktapur\n",
      "[['Ram', 89, 'Kathmandu'], ['Shyam', 89, 'Bhaktapur']]\n"
     ]
    }
   ],
   "source": [
    "# a = [['Ram',45,'Kathmandu'],\n",
    "#     ['Shyam',56,'Bhaktapur'],\n",
    "#     ['Hari',89,'Lalitpur']]\n",
    "\n",
    "l = []\n",
    "n = int(input(\"Enter n = \"))\n",
    "for i in range(n):\n",
    "    name = input(\"Enter name = \")\n",
    "    age = int(input(\"Enter age = \"))\n",
    "    add = input(\"Enter add = \")\n",
    "    data = [name,age,add]\n",
    "    l.append(data)\n",
    "    \n",
    "print(l)"
   ]
  },
  {
   "cell_type": "code",
   "execution_count": 22,
   "id": "2402338c",
   "metadata": {},
   "outputs": [
    {
     "name": "stdout",
     "output_type": "stream",
     "text": [
      "ram\n",
      "shyam\n",
      "hari\n",
      "ram\n"
     ]
    }
   ],
   "source": [
    "a = [['Ram',45,'Kathmandu'],\n",
    "    ['Shyam',56,'Bhaktapur'],\n",
    "    ['Hari',89,'Lalitpur'],\n",
    "    ['Ram',45,'Kathmandu']]\n",
    "for i in a:\n",
    "    print(i[0].lower())"
   ]
  },
  {
   "cell_type": "code",
   "execution_count": 18,
   "id": "2af27dc5",
   "metadata": {},
   "outputs": [
    {
     "name": "stdout",
     "output_type": "stream",
     "text": [
      "Enter name = ram\n"
     ]
    }
   ],
   "source": [
    "a = [['Ram',45,'Kathmandu'],\n",
    "    ['Shyam',56,'Bhaktapur'],\n",
    "    ['Hari',89,'Lalitpur'],\n",
    "    ['Ram',75,'Kathmandu']]\n",
    "name = input(\"Enter name = \")\n",
    "for i in a:\n",
    "    if name in i:\n",
    "        print(i)"
   ]
  },
  {
   "cell_type": "code",
   "execution_count": 25,
   "id": "da7eae57",
   "metadata": {},
   "outputs": [
    {
     "name": "stdout",
     "output_type": "stream",
     "text": [
      "Enter name = Ram\n",
      "['Ram', 45, 'Kathmandu']\n",
      "['Ramesh', 75, 'Kathmandu']\n"
     ]
    }
   ],
   "source": [
    "a = [['Ram',45,'Kathmandu'],\n",
    "    ['Shyam',56,'Bhaktapur'],\n",
    "    ['Hari',89,'Lalitpur'],\n",
    "    ['Ramesh',75,'Kathmandu']]\n",
    "name = input(\"Enter name = \")\n",
    "for i in a:\n",
    "    if name.lower() in i[0].lower():\n",
    "        print(i)"
   ]
  },
  {
   "cell_type": "code",
   "execution_count": 28,
   "id": "bfad804c",
   "metadata": {},
   "outputs": [
    {
     "name": "stdout",
     "output_type": "stream",
     "text": [
      "Enter name = ram\n",
      "['Ram', 45, 'Kathmandu']\n",
      "['Ram', 75, 'Kathmandu']\n"
     ]
    }
   ],
   "source": [
    "a = [['Ram',45,'Kathmandu'],\n",
    "    ['Shyam',56,'Bhaktapur'],\n",
    "    ['Hari',89,'Lalitpur'],\n",
    "    ['Ram',75,'Kathmandu']]\n",
    "name = input(\"Enter name = \")\n",
    "for i in a:\n",
    "    if name.lower() == i[0].lower():\n",
    "        print(i)"
   ]
  },
  {
   "cell_type": "code",
   "execution_count": 29,
   "id": "de0c7269",
   "metadata": {},
   "outputs": [
    {
     "name": "stdout",
     "output_type": "stream",
     "text": [
      "Ram\n",
      "Shyam\n",
      "Ram\n",
      "Hari\n",
      "Ram\n"
     ]
    }
   ],
   "source": [
    "a = ['Ram','Shyam','Ram','Hari','Ram']\n",
    "for i in a:\n",
    "    print(i)"
   ]
  },
  {
   "cell_type": "code",
   "execution_count": 32,
   "id": "caa35cfb",
   "metadata": {},
   "outputs": [
    {
     "name": "stdout",
     "output_type": "stream",
     "text": [
      "0\n",
      "2\n",
      "4\n"
     ]
    }
   ],
   "source": [
    "a = ['Ram','Shyam','Ram','Hari','Ram']\n",
    "c = len(a)\n",
    "for i in range(c):\n",
    "    if \"Ram\" == a[i]:\n",
    "        print(i)"
   ]
  },
  {
   "cell_type": "code",
   "execution_count": 38,
   "id": "a99d1d21",
   "metadata": {},
   "outputs": [
    {
     "name": "stdout",
     "output_type": "stream",
     "text": [
      "Enter name = Ram\n",
      "0\n",
      "3\n"
     ]
    }
   ],
   "source": [
    "a = [['Ram',45,'Kathmandu'],\n",
    "    ['Shyam',56,'Bhaktapur'],\n",
    "    ['Hari',89,'Lalitpur'],\n",
    "    ['Ram',75,'Kathmandu']]\n",
    "c = len(a)\n",
    "name = input(\"Enter name = \")\n",
    "\n",
    "for i in range(c):\n",
    "    if name.lower() == a[i][0].loewer()\n",
    "        print(i)"
   ]
  },
  {
   "cell_type": "code",
   "execution_count": null,
   "id": "489bd2c6",
   "metadata": {},
   "outputs": [],
   "source": [
    "# WAP to create a matrix\n",
    "# r -> ?\n",
    "# c -> ?\n",
    "# x -> ?"
   ]
  }
 ],
 "metadata": {
  "kernelspec": {
   "display_name": "Python 3 (ipykernel)",
   "language": "python",
   "name": "python3"
  },
  "language_info": {
   "codemirror_mode": {
    "name": "ipython",
    "version": 3
   },
   "file_extension": ".py",
   "mimetype": "text/x-python",
   "name": "python",
   "nbconvert_exporter": "python",
   "pygments_lexer": "ipython3",
   "version": "3.9.12"
  }
 },
 "nbformat": 4,
 "nbformat_minor": 5
}
