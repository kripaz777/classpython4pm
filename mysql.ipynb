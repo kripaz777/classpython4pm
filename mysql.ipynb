{
 "cells": [
  {
   "cell_type": "code",
   "execution_count": 1,
   "id": "32779187",
   "metadata": {},
   "outputs": [
    {
     "name": "stdout",
     "output_type": "stream",
     "text": [
      "Requirement already satisfied: mysql-connector-python in c:\\users\\aayush\\anaconda3\\lib\\site-packages (8.3.0)\n"
     ]
    },
    {
     "name": "stderr",
     "output_type": "stream",
     "text": [
      "WARNING: Ignoring invalid distribution -atplotlib (c:\\users\\aayush\\anaconda3\\lib\\site-packages)\n",
      "WARNING: Ignoring invalid distribution -illow (c:\\users\\aayush\\anaconda3\\lib\\site-packages)\n",
      "WARNING: Error parsing requirements for plotly: [Errno 2] No such file or directory: 'c:\\\\users\\\\aayush\\\\anaconda3\\\\lib\\\\site-packages\\\\plotly-5.14.1.dist-info\\\\METADATA'\n",
      "WARNING: Ignoring invalid distribution -atplotlib (c:\\users\\aayush\\anaconda3\\lib\\site-packages)\n",
      "WARNING: Ignoring invalid distribution -illow (c:\\users\\aayush\\anaconda3\\lib\\site-packages)\n"
     ]
    }
   ],
   "source": [
    "!pip install mysql-connector-python"
   ]
  },
  {
   "cell_type": "code",
   "execution_count": 1,
   "id": "44095e01",
   "metadata": {},
   "outputs": [],
   "source": [
    "import mysql.connector\n",
    "#importing database\n",
    "database = mysql.connector.connect(\n",
    "    host=\"localhost\",\n",
    "    user=\"root\",\n",
    "    password=\"\",\n",
    "    database = \"pythonclass4_pm\"\n",
    ")\n",
    "\n",
    "db = database.cursor()"
   ]
  },
  {
   "cell_type": "code",
   "execution_count": 4,
   "id": "8b3fe8ee",
   "metadata": {},
   "outputs": [
    {
     "name": "stdout",
     "output_type": "stream",
     "text": [
      "(1, 'Ram', 89, 68, 98, 76, 88, 410, 82.0, 'A')\n",
      "(2, 'Shyam', 90, 87, 79, 98, 89, 450, 85.0, 'A')\n",
      "(3, 'Hari', 89, 90, 87, 90, 86, 460, 88.0, 'A')\n",
      "(4, 'Sabin', 99, 90, 87, 90, 86, 480, 94.0, 'A')\n",
      "(5, 'Sabin', 99, 90, 87, 90, 86, 480, 94.0, 'A')\n",
      "(6, 'Nabin', 99, 90, 87, 90, 86, 480, 94.0, 'A')\n"
     ]
    }
   ],
   "source": [
    "# Select all data\n",
    "db.execute(\"SELECT * FROM student\")\n",
    "result =db.fetchall()\n",
    "for x in result:\n",
    "    print(x)"
   ]
  },
  {
   "cell_type": "code",
   "execution_count": 5,
   "id": "d18b2b23",
   "metadata": {},
   "outputs": [
    {
     "name": "stdout",
     "output_type": "stream",
     "text": [
      "('Ram', 410, 'A')\n",
      "('Shyam', 450, 'A')\n",
      "('Hari', 460, 'A')\n",
      "('Sabin', 480, 'A')\n",
      "('Sabin', 480, 'A')\n",
      "('Nabin', 480, 'A')\n"
     ]
    }
   ],
   "source": [
    "# Select all data\n",
    "db.execute(\"SELECT name,total,grade FROM student\")\n",
    "result =db.fetchall()\n",
    "for x in result:\n",
    "    print(x)"
   ]
  },
  {
   "cell_type": "code",
   "execution_count": 9,
   "id": "72eb31e4",
   "metadata": {},
   "outputs": [
    {
     "name": "stdout",
     "output_type": "stream",
     "text": [
      "(6, 'Nabin', 99, 90, 87, 90, 86, 480, 94.0, 'B')\n"
     ]
    }
   ],
   "source": [
    "# Select all data\n",
    "db.execute(\"SELECT * FROM student WHERE grade = 'B'\")\n",
    "result =db.fetchall()\n",
    "for x in result:\n",
    "    print(x)"
   ]
  },
  {
   "cell_type": "code",
   "execution_count": 3,
   "id": "4f163174",
   "metadata": {},
   "outputs": [],
   "source": [
    "#insert data\n",
    "sql = '''INSERT INTO student (name,physics,chemistry,math,english,nepali,total,per,grade) \n",
    "VALUES ('Krishna', 78, 98, 89, 77, 88, 400, 82.5, 'A')'''\n",
    "db.execute(sql)\n",
    "database.commit()"
   ]
  },
  {
   "cell_type": "code",
   "execution_count": 13,
   "id": "9fba117b",
   "metadata": {},
   "outputs": [],
   "source": [
    "#Update\n",
    "sql = \"UPDATE student SET name = 'Shree Krishna' WHERE sn = 11\"\n",
    "db.execute(sql)\n",
    "database.commit()"
   ]
  },
  {
   "cell_type": "code",
   "execution_count": 14,
   "id": "d275498f",
   "metadata": {},
   "outputs": [],
   "source": [
    "# delete\n",
    "sql = \"DELETE FROM student WHERE sn = 11 \"\n",
    "db.execute(sql)\n",
    "database.commit()"
   ]
  },
  {
   "cell_type": "code",
   "execution_count": null,
   "id": "2d654b31",
   "metadata": {},
   "outputs": [],
   "source": [
    "# WAP to insert data into database taking data from user"
   ]
  }
 ],
 "metadata": {
  "kernelspec": {
   "display_name": "Python 3 (ipykernel)",
   "language": "python",
   "name": "python3"
  },
  "language_info": {
   "codemirror_mode": {
    "name": "ipython",
    "version": 3
   },
   "file_extension": ".py",
   "mimetype": "text/x-python",
   "name": "python",
   "nbconvert_exporter": "python",
   "pygments_lexer": "ipython3",
   "version": "3.9.12"
  }
 },
 "nbformat": 4,
 "nbformat_minor": 5
}
