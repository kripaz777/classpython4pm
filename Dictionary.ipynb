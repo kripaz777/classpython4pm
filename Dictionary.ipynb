{
 "cells": [
  {
   "cell_type": "code",
   "execution_count": 1,
   "id": "b6d02913",
   "metadata": {},
   "outputs": [],
   "source": [
    "# Dictionary\n",
    "# -Indexing\n",
    "# -Ordered\n",
    "# -Multiple and duplicate value\n",
    "# -Mutable"
   ]
  },
  {
   "cell_type": "code",
   "execution_count": 2,
   "id": "c0ebb268",
   "metadata": {},
   "outputs": [],
   "source": [
    "d = dict()"
   ]
  },
  {
   "cell_type": "code",
   "execution_count": 3,
   "id": "12bda054",
   "metadata": {},
   "outputs": [],
   "source": [
    "# d = {<key>:<value>, <key>:<Value>,...}"
   ]
  },
  {
   "cell_type": "code",
   "execution_count": 1,
   "id": "35578c40",
   "metadata": {},
   "outputs": [
    {
     "name": "stdout",
     "output_type": "stream",
     "text": [
      "{'a': 'Ant', 'b': 'Ball', 'c': 'Cat', 'd': 'Dog'}\n",
      "<class 'dict'>\n"
     ]
    }
   ],
   "source": [
    "d = {'a':'Apple','b':'Ball','c':'Cat','d':'Dog','a':'Ant'}\n",
    "print(d)\n",
    "print(type(d))"
   ]
  },
  {
   "cell_type": "code",
   "execution_count": 7,
   "id": "268b5628",
   "metadata": {},
   "outputs": [
    {
     "name": "stdout",
     "output_type": "stream",
     "text": [
      "a b c d "
     ]
    }
   ],
   "source": [
    "for i in d:\n",
    "    print(i, end = \" \")"
   ]
  },
  {
   "cell_type": "code",
   "execution_count": 8,
   "id": "17d50e96",
   "metadata": {},
   "outputs": [
    {
     "name": "stdout",
     "output_type": "stream",
     "text": [
      "Apple Ball Cat Dog "
     ]
    }
   ],
   "source": [
    "for i in d.values():\n",
    "    print(i, end = \" \")"
   ]
  },
  {
   "cell_type": "code",
   "execution_count": 9,
   "id": "41a7e0d1",
   "metadata": {},
   "outputs": [
    {
     "name": "stdout",
     "output_type": "stream",
     "text": [
      "('a', 'Apple') ('b', 'Ball') ('c', 'Cat') ('d', 'Dog') "
     ]
    }
   ],
   "source": [
    "for i in d.items():\n",
    "    print(i, end = \" \")"
   ]
  },
  {
   "cell_type": "code",
   "execution_count": 10,
   "id": "3b842897",
   "metadata": {},
   "outputs": [
    {
     "data": {
      "text/plain": [
       "{'a': 'Apple', 'b': 'Ball', 'c': 'Cat', 'd': 'Dog'}"
      ]
     },
     "execution_count": 10,
     "metadata": {},
     "output_type": "execute_result"
    }
   ],
   "source": [
    "d = [['a', 'Apple'], ['b', 'Ball'], ['c', 'Cat'], ['d', 'Dog']] \n",
    "dict(d)"
   ]
  },
  {
   "cell_type": "code",
   "execution_count": 11,
   "id": "c7905302",
   "metadata": {},
   "outputs": [
    {
     "data": {
      "text/plain": [
       "{'a': 'Ant', 'b': 'Ball', 'c': 'Cat', 'd': 'Dog'}"
      ]
     },
     "execution_count": 11,
     "metadata": {},
     "output_type": "execute_result"
    }
   ],
   "source": [
    "a = {'a': 'Apple', 'b': 'Ball', 'c': 'Cat', 'd': 'Dog','a':'Ant'}\n",
    "a"
   ]
  },
  {
   "cell_type": "code",
   "execution_count": 12,
   "id": "2400531b",
   "metadata": {},
   "outputs": [
    {
     "data": {
      "text/plain": [
       "{'a': 'Apple', 'b': 'Ball', 'c': 'Cat', 'd': 'Dog', 'A': 'Ant'}"
      ]
     },
     "execution_count": 12,
     "metadata": {},
     "output_type": "execute_result"
    }
   ],
   "source": [
    "a = {'a': 'Apple', 'b': 'Ball', 'c': 'Cat', 'd': 'Dog','A':'Ant'}\n",
    "a"
   ]
  },
  {
   "cell_type": "code",
   "execution_count": 13,
   "id": "e3e12a6c",
   "metadata": {},
   "outputs": [],
   "source": [
    "# No + - * /"
   ]
  },
  {
   "cell_type": "code",
   "execution_count": 14,
   "id": "d705d7e3",
   "metadata": {},
   "outputs": [
    {
     "name": "stdout",
     "output_type": "stream",
     "text": [
      "{'a': 'Apple', 'b': 'Ball', 'c': 'Cat'}\n"
     ]
    }
   ],
   "source": [
    "#create\n",
    "d = {}\n",
    "d['a'] = 'Apple'\n",
    "d['b'] = 'Ball'\n",
    "d['c'] = 'Cat'\n",
    "print(d)"
   ]
  },
  {
   "cell_type": "code",
   "execution_count": 17,
   "id": "d68a2f92",
   "metadata": {},
   "outputs": [
    {
     "name": "stdout",
     "output_type": "stream",
     "text": [
      "Enter n = 1\n",
      "Enter name = Ram\n",
      "Enter phone no = 9808778765\n",
      "{'Ram': 9808778765}\n"
     ]
    }
   ],
   "source": [
    "d = {}\n",
    "n = int(input(\"Enter n = \"))\n",
    "for i in range(n):\n",
    "    name = input(\"Enter name = \")\n",
    "    phone = int(input(\"Enter phone no = \"))\n",
    "    d[name] = phone\n",
    "    \n",
    "print(d)"
   ]
  },
  {
   "cell_type": "code",
   "execution_count": 22,
   "id": "d0b91182",
   "metadata": {},
   "outputs": [
    {
     "name": "stdout",
     "output_type": "stream",
     "text": [
      "{'Ram': [9808778765, 9843667654], 'Shyam': [9808889123, 9867889075]}\n",
      "[9808778765, 9843667654]\n",
      "9843667654\n"
     ]
    }
   ],
   "source": [
    "# list inside dict\n",
    "d = {'Ram':[9808778765,9843667654],'Shyam':[9808889123,9867889075]}\n",
    "print(d)\n",
    "print(d['Ram'])\n",
    "print(d['Ram'][1])"
   ]
  },
  {
   "cell_type": "code",
   "execution_count": 23,
   "id": "ba9ea792",
   "metadata": {},
   "outputs": [],
   "source": [
    "# WAP to create above dict format"
   ]
  },
  {
   "cell_type": "code",
   "execution_count": 25,
   "id": "a9b55bcc",
   "metadata": {},
   "outputs": [
    {
     "data": {
      "text/plain": [
       "{'Ram': 9808000000, 'Shyam': 9808778765}"
      ]
     },
     "execution_count": 25,
     "metadata": {},
     "output_type": "execute_result"
    }
   ],
   "source": [
    "# Update\n",
    "d = {'Ram':9867887654,'Shyam':9808778765}\n",
    "d['Ram'] = 9808000000\n",
    "d"
   ]
  },
  {
   "cell_type": "code",
   "execution_count": 26,
   "id": "47b98e04",
   "metadata": {},
   "outputs": [
    {
     "data": {
      "text/plain": [
       "{'Ram': 9867887654, 'Shyam': 9808778765, 'Rama': 9808000000}"
      ]
     },
     "execution_count": 26,
     "metadata": {},
     "output_type": "execute_result"
    }
   ],
   "source": [
    "#Add\n",
    "d = {'Ram':9867887654,'Shyam':9808778765}\n",
    "d['Rama'] = 9808000000\n",
    "d"
   ]
  },
  {
   "cell_type": "code",
   "execution_count": 27,
   "id": "fe76eed3",
   "metadata": {},
   "outputs": [
    {
     "name": "stdout",
     "output_type": "stream",
     "text": [
      "{'Ram': 9867887654, 'Shyam': 9808778765}\n"
     ]
    }
   ],
   "source": [
    "# delete\n",
    "# del pop\n",
    "d = {'Ram': 9867887654, 'Shyam': 9808778765, 'Rama': 9808000000}\n",
    "del d['Rama']\n",
    "print(d)"
   ]
  },
  {
   "cell_type": "code",
   "execution_count": 29,
   "id": "d2437e36",
   "metadata": {},
   "outputs": [
    {
     "name": "stdout",
     "output_type": "stream",
     "text": [
      "{'Ram': 9867887654, 'Shyam': 9808778765}\n",
      "9808000000\n"
     ]
    }
   ],
   "source": [
    "d = {'Ram': 9867887654, 'Shyam': 9808778765, 'Rama': 9808000000}\n",
    "c = d.pop('Rama')\n",
    "print(d)\n",
    "print(c)"
   ]
  },
  {
   "cell_type": "code",
   "execution_count": 30,
   "id": "10361015",
   "metadata": {},
   "outputs": [
    {
     "name": "stdout",
     "output_type": "stream",
     "text": [
      "Enter n = 2\n",
      "Enter name = Ram\n",
      "Enter ntc phone no = 9867889876\n",
      "Enter ncell phone no = 9808778765\n",
      "Enter name = Shyam\n",
      "Enter ntc phone no = 984566765\n",
      "Enter ncell phone no = 9808778765\n",
      "{'Ram': [9867889876, 9808778765], 'Shyam': [984566765, 9808778765]}\n"
     ]
    }
   ],
   "source": [
    "# list inside dict\n",
    "#d = {'Ram':[9808778765,9843667654],'Shyam':[9808889123,9867889075]}\n",
    "d = {}\n",
    "n = int(input(\"Enter n = \"))\n",
    "for i in range(n):\n",
    "    name = input(\"Enter name = \")\n",
    "    ntc_phone = int(input(\"Enter ntc phone no = \"))\n",
    "    ncell_phone = int(input(\"Enter ncell phone no = \"))\n",
    "    d[name] = [ntc_phone,ncell_phone]\n",
    "    \n",
    "print(d)"
   ]
  },
  {
   "cell_type": "code",
   "execution_count": 1,
   "id": "e1336c84",
   "metadata": {},
   "outputs": [],
   "source": [
    "# d = {'name':['Ram','Shyam','Hari','Ram'],\n",
    "#      'ntc':[9845667654,9845778765,9845667654,984566543],\n",
    "#      'ncell':[9808778765,9808445432,9808556543,9808667654]}"
   ]
  },
  {
   "cell_type": "code",
   "execution_count": 4,
   "id": "7f329e99",
   "metadata": {},
   "outputs": [],
   "source": [
    "d = {'name':[],'ntc':[],'ncell':[]}\n",
    "n = int(input(\"Enter n = \"))\n",
    "for i in range(n):\n",
    "    name = input(\"Enter name = \")\n",
    "    ntc = int(input(\"Enter ntc = \"))\n",
    "    ncell = int(input(\"Enter ncell = \"))\n",
    "    d['name'].append(name)\n",
    "    d['ntc'].append(ntc)\n",
    "    d['ncell'].append(ncell)\n",
    "    \n",
    "d"
   ]
  },
  {
   "cell_type": "code",
   "execution_count": 3,
   "id": "dcfb82dd",
   "metadata": {},
   "outputs": [
    {
     "name": "stdout",
     "output_type": "stream",
     "text": [
      "Ram 9867889876 9808778765\n"
     ]
    }
   ],
   "source": [
    "print(d['name'][0],d['ntc'][0],d['ncell'][0])"
   ]
  },
  {
   "cell_type": "code",
   "execution_count": 7,
   "id": "78aa9ade",
   "metadata": {},
   "outputs": [
    {
     "name": "stdout",
     "output_type": "stream",
     "text": [
      "{'name': 'Ram', 'age': 45, 'add': 'Kathmandu'}\n",
      "Ram\n"
     ]
    }
   ],
   "source": [
    "# dict inside dict\n",
    "d = {1:{'name':'Ram','age':45,'add':'Kathmandu'},\n",
    "     2:{'name':'Rama','age':56,'add':'Bhatapur'}}\n",
    "\n",
    "print(d[1])\n",
    "print(d[1]['name'])"
   ]
  },
  {
   "cell_type": "code",
   "execution_count": null,
   "id": "a172148a",
   "metadata": {},
   "outputs": [],
   "source": [
    "# WAP to create above dict inside dict and do CRUD operation\n",
    "# WAP to create billing application using list inside list and dict inside dict and CRUD\n",
    "# WAP to create tuple inside tuple\n",
    "# WAP to convert tuple inside tuple to list inside list"
   ]
  },
  {
   "cell_type": "code",
   "execution_count": 2,
   "id": "adc31a92",
   "metadata": {},
   "outputs": [],
   "source": [
    "# d = [{'name':'Ram','age':34,'add':'Kathmandu'},\n",
    "#     {'name':'Ram','age':67,'add':'Kathmandu'}]"
   ]
  },
  {
   "cell_type": "code",
   "execution_count": null,
   "id": "85649a9c",
   "metadata": {},
   "outputs": [],
   "source": [
    "# d = {'name':['Ram','Ram','Hari','Ram'],\n",
    "#      'age':[54,98,67,67],\n",
    "#      'add':[9808778765,9808445432,9808556543,9808667654]}"
   ]
  },
  {
   "cell_type": "code",
   "execution_count": null,
   "id": "d9b227f4",
   "metadata": {},
   "outputs": [],
   "source": [
    "{1:{'name':'Ram','age':34,'add':'Kathmandu'},\n",
    " 2:{'name':'Ram','age':34,'add':'Kathmandu'}}"
   ]
  }
 ],
 "metadata": {
  "kernelspec": {
   "display_name": "Python 3 (ipykernel)",
   "language": "python",
   "name": "python3"
  },
  "language_info": {
   "codemirror_mode": {
    "name": "ipython",
    "version": 3
   },
   "file_extension": ".py",
   "mimetype": "text/x-python",
   "name": "python",
   "nbconvert_exporter": "python",
   "pygments_lexer": "ipython3",
   "version": "3.9.12"
  }
 },
 "nbformat": 4,
 "nbformat_minor": 5
}
